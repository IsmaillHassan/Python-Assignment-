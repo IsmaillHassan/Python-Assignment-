{
 "cells": [
  {
   "cell_type": "markdown",
   "metadata": {},
   "source": [
    "# Part -1 Python Basics (Variables)"
   ]
  },
  {
   "cell_type": "markdown",
   "metadata": {},
   "source": [
    "1. Print Your Name with your Father name and Date of birth using suitable escape sequence charactor"
   ]
  },
  {
   "cell_type": "code",
   "execution_count": 15,
   "metadata": {},
   "outputs": [
    {
     "name": "stdout",
     "output_type": "stream",
     "text": [
      "Name: Muhammad Ismail\n",
      "Father's Name: Mansoor Hassan\n",
      "Date of Birth: November 1, 2001\n"
     ]
    }
   ],
   "source": [
    "print(\"Name: Muhammad Ismail\\nFather's Name: Mansoor Hassan\\nDate of Birth: November 1, 2001\")\n"
   ]
  },
  {
   "cell_type": "markdown",
   "metadata": {},
   "source": [
    "2. Write your small bio using variables and print it using print function"
   ]
  },
  {
   "cell_type": "code",
   "execution_count": 17,
   "metadata": {},
   "outputs": [
    {
     "name": "stdout",
     "output_type": "stream",
     "text": [
      "Name: Ismail\n",
      "father Name: Mansoor Hassan\n",
      "Date of birth: November 1, 2001\n",
      "Bio: I am a Computer Science Student in the 7th semester passionate about learning and making a future in DevOps and Cloud Computing. I enjoy learning new technologies and working on challenging projects. I love to read books and play chess.\n"
     ]
    }
   ],
   "source": [
    "name = \"Ismail\"\n",
    "father_name = \"Mansoor Hassan\"\n",
    "date_of_birth = \"November 1, 2001\"\n",
    "bio = \"I am a Computer Science Student in the 7th semester passionate about learning and making a future in DevOps and Cloud Computing. I enjoy learning new technologies and working on challenging projects. I love to read books and play chess.\"\n",
    "\n",
    "print (\"Name:\", name)\n",
    "print (\"father Name:\", father_name)\n",
    "print (\"Date of birth:\", date_of_birth)\n",
    "print (\"Bio:\", bio)"
   ]
  },
  {
   "cell_type": "markdown",
   "metadata": {},
   "source": [
    "3. Write a program in which use all the operators we can use in Python"
   ]
  },
  {
   "cell_type": "code",
   "execution_count": 21,
   "metadata": {},
   "outputs": [
    {
     "name": "stdout",
     "output_type": "stream",
     "text": [
      "a + b: 10\n",
      "a - b: -2\n",
      "a * b: 24\n",
      "a ** b: 4096\n",
      "a / b: 0.6666666666666666\n",
      "a // b: 0\n",
      "a % b: 4\n",
      "a == b: False\n",
      "a != b: True\n",
      "a > b: False\n",
      "a < b: True\n",
      "a <= b: True\n",
      "a >= b: False\n",
      "c += : 15\n",
      "c -= : 10\n",
      "c *= : 50\n",
      "c /= : 10.0\n"
     ]
    }
   ],
   "source": [
    "a = 4\n",
    "b = 6\n",
    "c = 10\n",
    "\n",
    "print (\"a + b:\", a+b)\n",
    "print (\"a - b:\", a-b)\n",
    "print (\"a * b:\", a*b)\n",
    "print (\"a ** b:\", a**b)\n",
    "print (\"a / b:\", a/b)\n",
    "print (\"a // b:\", a//b)\n",
    "print (\"a % b:\", a%b)\n",
    "\n",
    "print (\"a == b:\", a==b)\n",
    "print (\"a != b:\", a!=b)\n",
    "print (\"a > b:\", a>b)\n",
    "print (\"a < b:\", a<b)\n",
    "print (\"a <= b:\", a<=b)\n",
    "print (\"a >= b:\", a>=b)\n",
    "\n",
    "c += 5\n",
    "print (\"c += :\", c )\n",
    "c -= 5\n",
    "print (\"c -= :\", c )\n",
    "c *= 5\n",
    "print (\"c *= :\", c )\n",
    "c /= 5 \n",
    "print (\"c /= :\", c )"
   ]
  },
  {
   "cell_type": "markdown",
   "metadata": {},
   "source": [
    "4. Completes the following steps of small task:\n",
    "    - Mention Marks of English , Islamiat and Maths out of 100 in 3 different variables\n",
    "    - Mention Variable of Total Marks and assign 300 to it\n",
    "    - Calculate Percentage"
   ]
  },
  {
   "cell_type": "code",
   "execution_count": 25,
   "metadata": {},
   "outputs": [
    {
     "name": "stdout",
     "output_type": "stream",
     "text": [
      "Marks in English:  80\n",
      "Marks in Maths:  65\n",
      "Marks on Islamiat:  95\n",
      "Total Marks:  300\n",
      "Obtained Marks:  240\n",
      "Percentage:  80.0 %\n"
     ]
    }
   ],
   "source": [
    "marks_of_english = 80\n",
    "marks_of_maths = 65\n",
    "marks_of_islamiat = 95\n",
    "total_marks = 300\n",
    "\n",
    "obtained_marks = marks_of_english + marks_of_maths + marks_of_islamiat\n",
    "percentage = (obtained_marks / total_marks) * 100\n",
    "\n",
    "print(\"Marks in English: \", marks_of_english)\n",
    "print(\"Marks in Maths: \", marks_of_maths)\n",
    "print(\"Marks on Islamiat: \", marks_of_islamiat)\n",
    "print(\"Total Marks: \", total_marks)\n",
    "print(\"Obtained Marks: \", obtained_marks)\n",
    "print(\"Percentage: \", percentage,\"%\")"
   ]
  },
  {
   "cell_type": "markdown",
   "metadata": {},
   "source": [
    "# Part -2 Python Basics (Conditional Statements)"
   ]
  },
  {
   "cell_type": "markdown",
   "metadata": {},
   "source": [
    "1) A company decided to give bonus of 5% to employee if his/her year of service is more than 5 years.\n",
    "Ask user for their salary and year of service and print the net bonus amount."
   ]
  },
  {
   "cell_type": "code",
   "execution_count": 31,
   "metadata": {},
   "outputs": [
    {
     "name": "stdin",
     "output_type": "stream",
     "text": [
      "Enter your Salary:  35000\n",
      "Enter your Years of service:  10\n"
     ]
    },
    {
     "name": "stdout",
     "output_type": "stream",
     "text": [
      "The Net bonus amount:  17500.0\n"
     ]
    }
   ],
   "source": [
    "salary = float(input(\"Enter your Salary: \"))\n",
    "years_of_service = int(input(\"Enter your Years of service: \"))\n",
    "\n",
    "if years_of_service > 5:\n",
    "                       bonus = salary * 0.5\n",
    "else:\n",
    "    bonus = 0\n",
    "\n",
    "print(\"The Net bonus amount: \", bonus)\n",
    "                "
   ]
  },
  {
   "cell_type": "markdown",
   "metadata": {},
   "source": [
    "\n",
    "2) Write a program to check whether a person is eligible for voting or not. (accept age from user) if age is greater than 17 eligible otherwise not eligible"
   ]
  },
  {
   "cell_type": "code",
   "execution_count": 34,
   "metadata": {},
   "outputs": [
    {
     "name": "stdin",
     "output_type": "stream",
     "text": [
      "Enter your age:  22\n"
     ]
    },
    {
     "name": "stdout",
     "output_type": "stream",
     "text": [
      "You are eligible for voting\n"
     ]
    }
   ],
   "source": [
    "age = int(input(\"Enter your age: \"))\n",
    "\n",
    "if age > 17:\n",
    "          print(\"You are eligible for voting\")\n",
    "else:\n",
    "    print(\"You are not eligible for voting\")"
   ]
  },
  {
   "cell_type": "markdown",
   "metadata": {},
   "source": [
    "\n",
    "3) Write a program to check whether a number entered by user is even or odd."
   ]
  },
  {
   "cell_type": "code",
   "execution_count": 42,
   "metadata": {},
   "outputs": [
    {
     "name": "stdin",
     "output_type": "stream",
     "text": [
      "Enter a number:  11\n"
     ]
    },
    {
     "name": "stdout",
     "output_type": "stream",
     "text": [
      "11 is odd number.\n"
     ]
    }
   ],
   "source": [
    "num = int(input(\"Enter a number: \"))\n",
    "\n",
    "if num % 2 == 0:\n",
    "    print(f\"{num} is even number.\")\n",
    "else:\n",
    "    print(f\"{num} is odd number.\") "
   ]
  },
  {
   "cell_type": "markdown",
   "metadata": {},
   "source": [
    "4) Write a program to check whether a number is divisible by 7 or not.\n",
    "Show Answer"
   ]
  },
  {
   "cell_type": "code",
   "execution_count": 5,
   "metadata": {},
   "outputs": [
    {
     "name": "stdin",
     "output_type": "stream",
     "text": [
      "Enter a number:  14\n"
     ]
    },
    {
     "name": "stdout",
     "output_type": "stream",
     "text": [
      "14 is divisible by 7.\n"
     ]
    }
   ],
   "source": [
    "numb = int(input(\"Enter a number: \"))\n",
    "\n",
    "if numb % 7 == 0:\n",
    "    print(f\"{numb} is divisible by 7.\")\n",
    "else:\n",
    "    print(f\"{numb} is not divisible by 7.\")"
   ]
  },
  {
   "cell_type": "markdown",
   "metadata": {},
   "source": [
    "5) Write a program to display \n",
    "\"Hello\" if a number entered by user is a multiple of five , otherwise print \"Bye\"."
   ]
  },
  {
   "cell_type": "code",
   "execution_count": 8,
   "metadata": {},
   "outputs": [
    {
     "name": "stdin",
     "output_type": "stream",
     "text": [
      "Enter a number:  10\n"
     ]
    },
    {
     "name": "stdout",
     "output_type": "stream",
     "text": [
      "Hello\n"
     ]
    }
   ],
   "source": [
    "number = int(input(\"Enter a number: \"))\n",
    "\n",
    "if number % 5 == 0:\n",
    "    print(\"Hello\")\n",
    "else:\n",
    "    print(\"Bye\")"
   ]
  },
  {
   "cell_type": "markdown",
   "metadata": {},
   "source": [
    "7) Write a program to display the last digit of a number.\n"
   ]
  },
  {
   "cell_type": "code",
   "execution_count": 11,
   "metadata": {},
   "outputs": [
    {
     "name": "stdin",
     "output_type": "stream",
     "text": [
      "Enter a number:  1110021\n"
     ]
    },
    {
     "name": "stdout",
     "output_type": "stream",
     "text": [
      "Last digit of your given number 1110021 is 1\n"
     ]
    }
   ],
   "source": [
    "num1 = int(input(\"Enter a number: \"))\n",
    "\n",
    "last_digit = num1 % 10\n",
    "\n",
    "print(f\"Last digit of your given number {num1} is {last_digit}\")"
   ]
  },
  {
   "cell_type": "markdown",
   "metadata": {},
   "source": [
    "9) Take values of length and breadth of a rectangle from user and print if it is square or rectangle."
   ]
  },
  {
   "cell_type": "code",
   "execution_count": 12,
   "metadata": {},
   "outputs": [
    {
     "name": "stdin",
     "output_type": "stream",
     "text": [
      "Enter length value of rectangle 22.0\n",
      "Enter breadth value of rectangle 22\n"
     ]
    },
    {
     "name": "stdout",
     "output_type": "stream",
     "text": [
      "It is square\n"
     ]
    }
   ],
   "source": [
    "length = float(input(\"Enter length value of rectangle\"))\n",
    "breadth = float(input(\"Enter breadth value of rectangle\"))\n",
    "\n",
    "if length == breadth:\n",
    "    print(\"It is square\")\n",
    "else:\n",
    "    print(\"It is rectangle\")\n"
   ]
  },
  {
   "cell_type": "markdown",
   "metadata": {},
   "source": [
    "10) Take two int values from user and print greatest among them."
   ]
  },
  {
   "cell_type": "code",
   "execution_count": 13,
   "metadata": {},
   "outputs": [
    {
     "name": "stdin",
     "output_type": "stream",
     "text": [
      "Enter your first int value:  22\n",
      "Enter your second int value:  21\n"
     ]
    },
    {
     "name": "stdout",
     "output_type": "stream",
     "text": [
      "22 is the greatest value.\n"
     ]
    }
   ],
   "source": [
    "val1 = int(input(\"Enter your first int value: \"))\n",
    "val2 = int(input(\"Enter your second int value: \"))\n",
    "\n",
    "if val1 > val2:\n",
    "    print(f\"{val1} is the greatest value.\")\n",
    "elif val2 > val1:\n",
    "    print(f\"{val2} is the greatest value.\")\n",
    "else:\n",
    "    print(\"Both are equal\")"
   ]
  },
  {
   "cell_type": "markdown",
   "metadata": {},
   "source": [
    "11) A shop will give discount of 10% if the cost of purchased quantity is more than 1000.\n",
    "Ask user for quantity\n",
    "Suppose, one unit will cost 100.\n",
    "Judge and print total cost for user."
   ]
  },
  {
   "cell_type": "code",
   "execution_count": 15,
   "metadata": {},
   "outputs": [
    {
     "name": "stdin",
     "output_type": "stream",
     "text": [
      "Enter your quantity:  22\n"
     ]
    },
    {
     "name": "stdout",
     "output_type": "stream",
     "text": [
      "Your Total cost after 10% discount is 1980.0\n"
     ]
    }
   ],
   "source": [
    "quantity = int(input(\"Enter your quantity: \"))\n",
    "unit_cost = 100 \n",
    "\n",
    "total_cost = unit_cost * quantity\n",
    "\n",
    "if total_cost > 1000:\n",
    "    discount = total_cost * 0.10\n",
    "    total_cost -= discount \n",
    "    print(f\"Your Total cost after 10% discount is {total_cost}\")\n",
    "else:\n",
    "    print(f\"Your Total cost is {total_cost}\")"
   ]
  },
  {
   "cell_type": "markdown",
   "metadata": {},
   "source": [
    "12) A school has following rules for grading system:\n",
    "\n",
    "a. Below 25 - F\n",
    "\n",
    "b. 25 to 45 - E\n",
    "\n",
    "c. 45 to 50 - D\n",
    "\n",
    "d. 50 to 60 - C\n",
    "\n",
    "e. 60 to 80 - B\n",
    "\n",
    "f. Above 80 - A\n",
    "\n",
    "Ask user to enter marks and print the corresponding grade."
   ]
  },
  {
   "cell_type": "code",
   "execution_count": 33,
   "metadata": {},
   "outputs": [
    {
     "name": "stdin",
     "output_type": "stream",
     "text": [
      "Enter your marks:  75\n"
     ]
    },
    {
     "name": "stdout",
     "output_type": "stream",
     "text": [
      "Your grade is B\n"
     ]
    }
   ],
   "source": [
    "marks = int(input(\"Enter your marks: \"))\n",
    "\n",
    "if marks < 25:\n",
    "    print(\"Your grade is fail!\")\n",
    "elif marks <= 45 and marks > 25:\n",
    "    print(\"Your grade is E\")\n",
    "elif marks <= 50 and marks > 45:\n",
    "    print(\"Your grade is D\")\n",
    "elif marks <= 60 and marks > 50:\n",
    "    print(\"Your grade is C\")\n",
    "elif marks <= 80 and marks > 60:\n",
    "    print(\"Your grade is B\")\n",
    "else:\n",
    "    print(\"Your grade is A\")\n",
    "    "
   ]
  },
  {
   "cell_type": "markdown",
   "metadata": {},
   "source": [
    "14)A student will not be allowed to sit in exam if his/her attendence is less than 75%.\n",
    "\n",
    "Take following input from user\n",
    "\n",
    "- Number of classes held\n",
    "\n",
    "- Number of classes attended.\n",
    "\n",
    "And print\n",
    "\n",
    "- percentage of class attended\n",
    "\n",
    "- Is student is allowed to sit in exam or not.\n"
   ]
  },
  {
   "cell_type": "code",
   "execution_count": 9,
   "metadata": {
    "scrolled": true
   },
   "outputs": [
    {
     "name": "stdin",
     "output_type": "stream",
     "text": [
      "Enter number of classes held:  10\n",
      "Enter number of classes you've attended:  6\n"
     ]
    },
    {
     "name": "stdout",
     "output_type": "stream",
     "text": [
      "You're not allowed to sit in exam\n"
     ]
    }
   ],
   "source": [
    "num_of_class = int(input(\"Enter number of classes held: \"))\n",
    "attended_class = int(input(\"Enter number of classes you've attended: \"))\n",
    "\n",
    "percentage = (attended_class / num_of_class) * 100\n",
    "\n",
    "if percentage >= 75:\n",
    "    print(\"You're allowed to sit in exam\")\n",
    "else:\n",
    "    print(\"You're not allowed to sit in exam\")\n",
    "    "
   ]
  },
  {
   "cell_type": "markdown",
   "metadata": {},
   "source": [
    "15) Modify the above question to allow student to sit if he/she has medical cause. Ask user if he/she has medical cause or not ( 'Y' or 'N' ) and print accordingly."
   ]
  },
  {
   "cell_type": "code",
   "execution_count": 11,
   "metadata": {},
   "outputs": [
    {
     "name": "stdin",
     "output_type": "stream",
     "text": [
      "Enter number of classes held:  10\n",
      "Enter number of classes you've attended:  6\n",
      "If you've any medical cause or not Enter (Y/N):  Y\n"
     ]
    },
    {
     "name": "stdout",
     "output_type": "stream",
     "text": [
      "You're allowed to sit in exam\n"
     ]
    }
   ],
   "source": [
    "num_of_class = int(input(\"Enter number of classes held: \"))\n",
    "attended_class = int(input(\"Enter number of classes you've attended: \"))\n",
    "medical_cause = input(\"If you've any medical cause or not Enter (Y/N): \")\n",
    "\n",
    "percentage = (attended_class / num_of_class) * 100\n",
    "\n",
    "if percentage >= 75 or medical_cause == 'Y' :\n",
    "    print(\"You're allowed to sit in exam\") \n",
    "else:\n",
    "    print(\"You're not allowed to sit in exam\")\n",
    "    "
   ]
  },
  {
   "cell_type": "markdown",
   "metadata": {},
   "source": [
    "16) Write a program to check if a year is leap year or not.\n",
    "\n",
    "If a year is divisible by 4 then it is leap year but if the year is century year like 2000, 1900, 2100 then it must be divisible by 400."
   ]
  },
  {
   "cell_type": "code",
   "execution_count": 16,
   "metadata": {},
   "outputs": [
    {
     "name": "stdin",
     "output_type": "stream",
     "text": [
      "Enter a year:  2024\n"
     ]
    },
    {
     "name": "stdout",
     "output_type": "stream",
     "text": [
      "2024 is a leap year.\n"
     ]
    }
   ],
   "source": [
    "year = int(input(\"Enter a year: \"))\n",
    "\n",
    "if year % 400 == 0:\n",
    "    print(f\"{year} is a leap year.\")\n",
    "elif year % 100 == 0:\n",
    "    print(f\"{year} is not a leap year.\")\n",
    "elif year % 4 == 0:\n",
    "    print(f\"{year} is a leap year.\")\n",
    "else:\n",
    "    print(f\"{year} is not a leap year.\")"
   ]
  },
  {
   "cell_type": "markdown",
   "metadata": {},
   "source": [
    "17) Ask user to enter age, gender ( M or F ), marital status ( Y or N ) and then using following rules print their place of service.\n",
    "\n",
    "if employee is female, then she will work only in urban areas.\n",
    "\n",
    "if employee is a male and age is in between 20 to 40 then he may work in anywhere\n",
    "\n",
    "if employee is male and age is in between 40 t0 60 then he will work in urban areas only.\n",
    "\n",
    "And any other input of age should print \"ERROR\""
   ]
  },
  {
   "cell_type": "code",
   "execution_count": 22,
   "metadata": {},
   "outputs": [
    {
     "name": "stdin",
     "output_type": "stream",
     "text": [
      "Enter your age:  22\n",
      "Enter your gender (M/F):  M\n",
      "Enter marital status (Y/N):  N\n"
     ]
    },
    {
     "name": "stdout",
     "output_type": "stream",
     "text": [
      "You may work in anywhere\n"
     ]
    }
   ],
   "source": [
    "age = int(input(\"Enter your age: \"))\n",
    "gender = input(\"Enter your gender (M/F): \")\n",
    "marital_status = input(\"Enter marital status (Y/N): \")\n",
    "\n",
    "if gender == 'F':\n",
    "    print(\"You'll work only in urban areas\")\n",
    "elif gender == 'M' and (age >= 20 and age <= 40):\n",
    "    print(\"You may work in anywhere\")\n",
    "elif gender == 'M' and (age >= 40 and age <= 60):\n",
    "    print(\"You'll work in urban areas only\")\n",
    "else:\n",
    "    print(\"ERROR\")\n",
    "    "
   ]
  },
  {
   "cell_type": "markdown",
   "metadata": {},
   "source": [
    "6) Write a program to calculate the electricity bill (accept number of unit from user) according to the following criteria :\n",
    "     Unit                                                     Price  \n",
    "uptp 100 units                                             no charge\n",
    "Next 200 units                                              Rs 5 per unit\n",
    "After 200 units                                             Rs 10 per unit\n",
    "(For example if input unit is 350 than total bill amount is Rs.3500\n",
    "(For example if input unit is 97 than total bill amount is Rs.0\n",
    "(For example if input unit is 150 than total bill amount is Rs.750"
   ]
  },
  {
   "cell_type": "code",
   "execution_count": 13,
   "metadata": {},
   "outputs": [
    {
     "name": "stdin",
     "output_type": "stream",
     "text": [
      "Enter number of units:  350\n"
     ]
    },
    {
     "name": "stdout",
     "output_type": "stream",
     "text": [
      "The Total bill amount is: Rs.3500\n"
     ]
    }
   ],
   "source": [
    "unit = int(input(\"Enter number of units: \"))\n",
    "\n",
    "if unit <= 100:\n",
    "    bill_amount = 0\n",
    "    print(f\"The Total bill amount is: Rs.{bill_amount}\")\n",
    "elif unit <= 300:\n",
    "    bill_amount = unit * 5\n",
    "    print(f\"The Total bill amount is: Rs.{bill_amount}\")\n",
    "else:\n",
    "    bill_amount = unit * 10\n",
    "    print(f\"The Total bill amount is: Rs.{bill_amount}\")\n"
   ]
  },
  {
   "cell_type": "markdown",
   "metadata": {},
   "source": [
    "13) Take input of age of 3 people by user and determine oldest and youngest among them.#Type your code here"
   ]
  },
  {
   "cell_type": "code",
   "execution_count": 47,
   "metadata": {},
   "outputs": [
    {
     "name": "stdin",
     "output_type": "stream",
     "text": [
      "User #1 Enter your age:  22\n",
      "User #2 Enter your age:  24\n",
      "User #3 Enter your age:  26\n"
     ]
    },
    {
     "name": "stdout",
     "output_type": "stream",
     "text": [
      "The youngest person is 22\n",
      "The oldest person is 26\n"
     ]
    }
   ],
   "source": [
    "person_1 = int(input(\"User #1 Enter your age: \"))\n",
    "person_2 = int(input(\"User #2 Enter your age: \"))\n",
    "person_3 = int(input(\"User #3 Enter your age: \"))\n",
    "\n",
    "if person_1 >= person_2 and person_1 >= person_3:\n",
    "    oldest = person_1\n",
    "elif person_2 >= person_1 and person_2 >= person_3:\n",
    "    oldest = person_2\n",
    "else:\n",
    "    oldest = person_3\n",
    "\n",
    "if person_1 <= person_2 and person_1 <= person_3:\n",
    "    youngest = person_1\n",
    "elif person_2 <= person_1 and person_2 <= person_3:\n",
    "    youngest = person_2\n",
    "else:\n",
    "    youngest = person_1\n",
    "\n",
    "print(f\"The youngest person is {youngest}\")\n",
    "print(f\"The oldest person is {oldest}\")"
   ]
  },
  {
   "cell_type": "code",
   "execution_count": null,
   "metadata": {},
   "outputs": [],
   "source": []
  }
 ],
 "metadata": {
  "kernelspec": {
   "display_name": "Python 3 (ipykernel)",
   "language": "python",
   "name": "python3"
  },
  "language_info": {
   "codemirror_mode": {
    "name": "ipython",
    "version": 3
   },
   "file_extension": ".py",
   "mimetype": "text/x-python",
   "name": "python",
   "nbconvert_exporter": "python",
   "pygments_lexer": "ipython3",
   "version": "3.11.7"
  }
 },
 "nbformat": 4,
 "nbformat_minor": 4
}
